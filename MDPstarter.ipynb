{
 "cells": [
  {
   "cell_type": "code",
<<<<<<< HEAD
   "execution_count": 8,
=======
   "execution_count": 1,
>>>>>>> d4c406db0ba9776c99051a68f766626c4ae29b69
   "metadata": {},
   "outputs": [
    {
     "ename": "ImportError",
     "evalue": "\n\nIMPORTANT: PLEASE READ THIS FOR ADVICE ON HOW TO SOLVE THIS ISSUE!\n\nImporting the numpy C-extensions failed. This error can happen for\nmany reasons, often due to issues with your setup or how NumPy was\ninstalled.\n\nWe have compiled some common reasons and troubleshooting tips at:\n\n    https://numpy.org/devdocs/user/troubleshooting-importerror.html\n\nPlease note and check the following:\n\n  * The Python version is: Python3.10 from \"/usr/local/bin/python3\"\n  * The NumPy version is: \"1.24.3\"\n\nand make sure that they are the versions you expect.\nPlease carefully study the documentation linked above for further help.\n\nOriginal error was: dlopen(/Users/rhyschambers/Library/Python/3.10/lib/python/site-packages/numpy/core/_multiarray_umath.cpython-310-darwin.so, 0x0002): tried: '/Users/rhyschambers/Library/Python/3.10/lib/python/site-packages/numpy/core/_multiarray_umath.cpython-310-darwin.so' (mach-o file, but is an incompatible architecture (have 'x86_64', need 'arm64')), '/System/Volumes/Preboot/Cryptexes/OS/Users/rhyschambers/Library/Python/3.10/lib/python/site-packages/numpy/core/_multiarray_umath.cpython-310-darwin.so' (no such file), '/Users/rhyschambers/Library/Python/3.10/lib/python/site-packages/numpy/core/_multiarray_umath.cpython-310-darwin.so' (mach-o file, but is an incompatible architecture (have 'x86_64', need 'arm64'))\n",
     "output_type": "error",
     "traceback": [
      "\u001b[0;31m---------------------------------------------------------------------------\u001b[0m",
      "\u001b[0;31mImportError\u001b[0m                               Traceback (most recent call last)",
      "File \u001b[0;32m~/Library/Python/3.10/lib/python/site-packages/numpy/core/__init__.py:23\u001b[0m\n\u001b[1;32m     22\u001b[0m \u001b[39mtry\u001b[39;00m:\n\u001b[0;32m---> 23\u001b[0m     \u001b[39mfrom\u001b[39;00m \u001b[39m.\u001b[39;00m \u001b[39mimport\u001b[39;00m multiarray\n\u001b[1;32m     24\u001b[0m \u001b[39mexcept\u001b[39;00m \u001b[39mImportError\u001b[39;00m \u001b[39mas\u001b[39;00m exc:\n",
      "File \u001b[0;32m~/Library/Python/3.10/lib/python/site-packages/numpy/core/multiarray.py:10\u001b[0m\n\u001b[1;32m      9\u001b[0m \u001b[39mimport\u001b[39;00m \u001b[39mfunctools\u001b[39;00m\n\u001b[0;32m---> 10\u001b[0m \u001b[39mfrom\u001b[39;00m \u001b[39m.\u001b[39;00m \u001b[39mimport\u001b[39;00m overrides\n\u001b[1;32m     11\u001b[0m \u001b[39mfrom\u001b[39;00m \u001b[39m.\u001b[39;00m \u001b[39mimport\u001b[39;00m _multiarray_umath\n",
      "File \u001b[0;32m~/Library/Python/3.10/lib/python/site-packages/numpy/core/overrides.py:6\u001b[0m\n\u001b[1;32m      4\u001b[0m \u001b[39mimport\u001b[39;00m \u001b[39mos\u001b[39;00m\n\u001b[0;32m----> 6\u001b[0m \u001b[39mfrom\u001b[39;00m \u001b[39mnumpy\u001b[39;00m\u001b[39m.\u001b[39;00m\u001b[39mcore\u001b[39;00m\u001b[39m.\u001b[39;00m\u001b[39m_multiarray_umath\u001b[39;00m \u001b[39mimport\u001b[39;00m (\n\u001b[1;32m      7\u001b[0m     add_docstring, implement_array_function, _get_implementing_args)\n\u001b[1;32m      8\u001b[0m \u001b[39mfrom\u001b[39;00m \u001b[39mnumpy\u001b[39;00m\u001b[39m.\u001b[39;00m\u001b[39mcompat\u001b[39;00m\u001b[39m.\u001b[39;00m\u001b[39m_inspect\u001b[39;00m \u001b[39mimport\u001b[39;00m getargspec\n",
      "\u001b[0;31mImportError\u001b[0m: dlopen(/Users/rhyschambers/Library/Python/3.10/lib/python/site-packages/numpy/core/_multiarray_umath.cpython-310-darwin.so, 0x0002): tried: '/Users/rhyschambers/Library/Python/3.10/lib/python/site-packages/numpy/core/_multiarray_umath.cpython-310-darwin.so' (mach-o file, but is an incompatible architecture (have 'x86_64', need 'arm64')), '/System/Volumes/Preboot/Cryptexes/OS/Users/rhyschambers/Library/Python/3.10/lib/python/site-packages/numpy/core/_multiarray_umath.cpython-310-darwin.so' (no such file), '/Users/rhyschambers/Library/Python/3.10/lib/python/site-packages/numpy/core/_multiarray_umath.cpython-310-darwin.so' (mach-o file, but is an incompatible architecture (have 'x86_64', need 'arm64'))",
      "\nDuring handling of the above exception, another exception occurred:\n",
      "\u001b[0;31mImportError\u001b[0m                               Traceback (most recent call last)",
      "Cell \u001b[0;32mIn[8], line 1\u001b[0m\n\u001b[0;32m----> 1\u001b[0m \u001b[39mimport\u001b[39;00m \u001b[39mnumpy\u001b[39;00m \u001b[39mas\u001b[39;00m \u001b[39mnp\u001b[39;00m\n\u001b[1;32m      2\u001b[0m \u001b[39mimport\u001b[39;00m \u001b[39mpolars\u001b[39;00m \u001b[39mas\u001b[39;00m \u001b[39mpl\u001b[39;00m\n\u001b[1;32m      3\u001b[0m \u001b[39mimport\u001b[39;00m \u001b[39mseaborn\u001b[39;00m \u001b[39mas\u001b[39;00m \u001b[39msns\u001b[39;00m\n",
      "File \u001b[0;32m~/Library/Python/3.10/lib/python/site-packages/numpy/__init__.py:141\u001b[0m\n\u001b[1;32m    138\u001b[0m \u001b[39m# Allow distributors to run custom init code\u001b[39;00m\n\u001b[1;32m    139\u001b[0m \u001b[39mfrom\u001b[39;00m \u001b[39m.\u001b[39;00m \u001b[39mimport\u001b[39;00m _distributor_init\n\u001b[0;32m--> 141\u001b[0m \u001b[39mfrom\u001b[39;00m \u001b[39m.\u001b[39;00m \u001b[39mimport\u001b[39;00m core\n\u001b[1;32m    142\u001b[0m \u001b[39mfrom\u001b[39;00m \u001b[39m.\u001b[39;00m\u001b[39mcore\u001b[39;00m \u001b[39mimport\u001b[39;00m \u001b[39m*\u001b[39m\n\u001b[1;32m    143\u001b[0m \u001b[39mfrom\u001b[39;00m \u001b[39m.\u001b[39;00m \u001b[39mimport\u001b[39;00m compat\n",
      "File \u001b[0;32m~/Library/Python/3.10/lib/python/site-packages/numpy/core/__init__.py:49\u001b[0m\n\u001b[1;32m     25\u001b[0m     \u001b[39mimport\u001b[39;00m \u001b[39msys\u001b[39;00m\n\u001b[1;32m     26\u001b[0m     msg \u001b[39m=\u001b[39m \u001b[39m\"\"\"\u001b[39m\n\u001b[1;32m     27\u001b[0m \n\u001b[1;32m     28\u001b[0m \u001b[39mIMPORTANT: PLEASE READ THIS FOR ADVICE ON HOW TO SOLVE THIS ISSUE!\u001b[39m\n\u001b[0;32m   (...)\u001b[0m\n\u001b[1;32m     47\u001b[0m \u001b[39m\"\"\"\u001b[39m \u001b[39m%\u001b[39m (sys\u001b[39m.\u001b[39mversion_info[\u001b[39m0\u001b[39m], sys\u001b[39m.\u001b[39mversion_info[\u001b[39m1\u001b[39m], sys\u001b[39m.\u001b[39mexecutable,\n\u001b[1;32m     48\u001b[0m         __version__, exc)\n\u001b[0;32m---> 49\u001b[0m     \u001b[39mraise\u001b[39;00m \u001b[39mImportError\u001b[39;00m(msg)\n\u001b[1;32m     50\u001b[0m \u001b[39mfinally\u001b[39;00m:\n\u001b[1;32m     51\u001b[0m     \u001b[39mfor\u001b[39;00m envkey \u001b[39min\u001b[39;00m env_added:\n",
      "\u001b[0;31mImportError\u001b[0m: \n\nIMPORTANT: PLEASE READ THIS FOR ADVICE ON HOW TO SOLVE THIS ISSUE!\n\nImporting the numpy C-extensions failed. This error can happen for\nmany reasons, often due to issues with your setup or how NumPy was\ninstalled.\n\nWe have compiled some common reasons and troubleshooting tips at:\n\n    https://numpy.org/devdocs/user/troubleshooting-importerror.html\n\nPlease note and check the following:\n\n  * The Python version is: Python3.10 from \"/usr/local/bin/python3\"\n  * The NumPy version is: \"1.24.3\"\n\nand make sure that they are the versions you expect.\nPlease carefully study the documentation linked above for further help.\n\nOriginal error was: dlopen(/Users/rhyschambers/Library/Python/3.10/lib/python/site-packages/numpy/core/_multiarray_umath.cpython-310-darwin.so, 0x0002): tried: '/Users/rhyschambers/Library/Python/3.10/lib/python/site-packages/numpy/core/_multiarray_umath.cpython-310-darwin.so' (mach-o file, but is an incompatible architecture (have 'x86_64', need 'arm64')), '/System/Volumes/Preboot/Cryptexes/OS/Users/rhyschambers/Library/Python/3.10/lib/python/site-packages/numpy/core/_multiarray_umath.cpython-310-darwin.so' (no such file), '/Users/rhyschambers/Library/Python/3.10/lib/python/site-packages/numpy/core/_multiarray_umath.cpython-310-darwin.so' (mach-o file, but is an incompatible architecture (have 'x86_64', need 'arm64'))\n"
     ]
    }
   ],
   "source": [
    "import numpy as np\n",
    "import polars as pl\n",
    "import seaborn as sns\n",
    "from copy import deepcopy\n",
    "sns.set_theme(style=\"whitegrid\")"
   ]
  },
  {
   "cell_type": "code",
<<<<<<< HEAD
   "execution_count": null,
=======
   "execution_count": 2,
>>>>>>> d4c406db0ba9776c99051a68f766626c4ae29b69
   "metadata": {},
   "outputs": [
    {
     "ename": "NameError",
     "evalue": "name 'np' is not defined",
     "output_type": "error",
     "traceback": [
      "\u001b[0;31m---------------------------------------------------------------------------\u001b[0m",
      "\u001b[0;31mNameError\u001b[0m                                 Traceback (most recent call last)",
      "Cell \u001b[0;32mIn[5], line 1\u001b[0m\n\u001b[0;32m----> 1\u001b[0m P0 \u001b[39m=\u001b[39m np\u001b[39m.\u001b[39marray([[\u001b[39m0.5\u001b[39m, \u001b[39m0.4\u001b[39m, \u001b[39m0.1\u001b[39m, \u001b[39m0\u001b[39m],\n\u001b[1;32m      2\u001b[0m                [\u001b[39m0.4\u001b[39m, \u001b[39m0.5\u001b[39m, \u001b[39m0.1\u001b[39m, \u001b[39m0\u001b[39m],\n\u001b[1;32m      3\u001b[0m                [\u001b[39m0.7\u001b[39m, \u001b[39m0.1\u001b[39m, \u001b[39m0.1\u001b[39m, \u001b[39m0.1\u001b[39m],\n\u001b[1;32m      4\u001b[0m                [\u001b[39m0.5\u001b[39m, \u001b[39m0.2\u001b[39m, \u001b[39m0.2\u001b[39m, \u001b[39m0.1\u001b[39m]\n\u001b[1;32m      5\u001b[0m               ])\n\u001b[1;32m      7\u001b[0m P1 \u001b[39m=\u001b[39m np\u001b[39m.\u001b[39marray([[\u001b[39m0.7\u001b[39m, \u001b[39m0.2\u001b[39m, \u001b[39m0.0\u001b[39m, \u001b[39m0.1\u001b[39m],\n\u001b[1;32m      8\u001b[0m                [\u001b[39m0.2\u001b[39m, \u001b[39m0.3\u001b[39m, \u001b[39m0.4\u001b[39m, \u001b[39m0.1\u001b[39m],\n\u001b[1;32m      9\u001b[0m                [\u001b[39m0.5\u001b[39m, \u001b[39m0.2\u001b[39m, \u001b[39m0.2\u001b[39m, \u001b[39m0.1\u001b[39m],\n\u001b[1;32m     10\u001b[0m                [\u001b[39m0.4\u001b[39m, \u001b[39m0.2\u001b[39m, \u001b[39m0.2\u001b[39m, \u001b[39m0.2\u001b[39m]\n\u001b[1;32m     11\u001b[0m               ])\n\u001b[1;32m     13\u001b[0m P2 \u001b[39m=\u001b[39m np\u001b[39m.\u001b[39marray([[\u001b[39m0.1\u001b[39m, \u001b[39m0.3\u001b[39m, \u001b[39m0.4\u001b[39m, \u001b[39m0.2\u001b[39m],\n\u001b[1;32m     14\u001b[0m                [\u001b[39m0.1\u001b[39m, \u001b[39m0.3\u001b[39m, \u001b[39m0.5\u001b[39m, \u001b[39m0.1\u001b[39m],\n\u001b[1;32m     15\u001b[0m                [\u001b[39m0.3\u001b[39m, \u001b[39m0.3\u001b[39m, \u001b[39m0.1\u001b[39m, \u001b[39m0.3\u001b[39m],\n\u001b[1;32m     16\u001b[0m                [\u001b[39m0.3\u001b[39m, \u001b[39m0.4\u001b[39m, \u001b[39m0.1\u001b[39m, \u001b[39m0.2\u001b[39m]\n\u001b[1;32m     17\u001b[0m               ])\n",
      "\u001b[0;31mNameError\u001b[0m: name 'np' is not defined"
     ]
    }
   ],
   "source": [
    "P0 = np.array([[0.5, 0.4, 0.1, 0],\n",
    "               [0.4, 0.5, 0.1, 0],\n",
    "               [0.7, 0.1, 0.1, 0.1],\n",
    "               [0.5, 0.2, 0.2, 0.1]\n",
    "              ])\n",
    "def hello(arg):\n",
    "    print(\"hello\")\n",
    "\n",
    "hello(arg)\n",
    "\n",
    "P1 = np.array([[0.7, 0.2, 0.0, 0.1],\n",
    "               [0.2, 0.3, 0.4, 0.1],\n",
    "               [0.5, 0.2, 0.2, 0.1],\n",
    "               [0.4, 0.2, 0.2, 0.2]\n",
    "              ])\n",
    "\n",
    "P2 = np.array([[0.1, 0.3, 0.4, 0.2],\n",
    "               [0.1, 0.3, 0.5, 0.1],\n",
    "               [0.3, 0.3, 0.1, 0.3],\n",
    "               [0.3, 0.4, 0.1, 0.2]\n",
    "              ])\n",
    "\n",
    "R0 = np.array([[1],[3], [5], [12]])\n",
    "\n",
    "R1 = np.array([[0],[2], [4], [11]])\n",
    "\n",
    "R2 = np.array([[-2],[0], [2], [9]])\n",
    "\n",
    "states = [np.array([[1, 0, 0, 0]]), \n",
    "          np.array([[0, 1, 0, 0]]), \n",
    "          np.array([[0, 0, 1, 0]]), \n",
    "          np.array([[0, 0, 0, 1]])]\n",
    "\n",
    "# transition and reward as 'function'  of action\n",
    "# represented as dicts\n",
    "T = {0: P0, 1: P1, 2: P2}\n",
    "R = {0: R0, 1: R1, 2: R2}\n",
    "\n",
    "gamma = 0.95"
   ]
  },
  {
   "cell_type": "markdown",
   "metadata": {},
   "source": []
  },
  {
   "cell_type": "code",
<<<<<<< HEAD
   "execution_count": null,
=======
   "execution_count": 3,
>>>>>>> d4c406db0ba9776c99051a68f766626c4ae29b69
   "metadata": {},
   "outputs": [],
   "source": [
    "# returns Q for one state\n",
    "def bellman_backup(s, U, pi, gamma, T=T, R=R, S=states):\n",
    "    action = pi[s]\n",
    "    reward = R[action][s]\n",
    "    sum = 0\n",
    "    for s_prime in range(len(S)):\n",
    "        sum += T[action][s][s_prime] * U[s_prime]\n",
    "    sum *= gamma\n",
    "    return (reward + sum)[0]"
   ]
  },
  {
   "cell_type": "code",
<<<<<<< HEAD
   "execution_count": null,
=======
   "execution_count": 4,
>>>>>>> d4c406db0ba9776c99051a68f766626c4ae29b69
   "metadata": {},
   "outputs": [],
   "source": [
    "def Q_sa(s, a, U, pi, gamma, T=T, R=R):\n",
    "    action = a\n",
    "    reward = R[action][s]\n",
    "    sum = 0\n",
    "    for s_prime in range(len(states)):\n",
    "        sum += T[a][s][s_prime] * U[s_prime]\n",
    "    sum *= gamma\n",
    "    return (reward + sum)[0]"
   ]
  },
  {
   "cell_type": "markdown",
   "metadata": {},
   "source": [
    "Synchronous Value Iteration BUT SHOULD BE MCTS\n"
   ]
  },
  {
   "cell_type": "code",
   "execution_count": null,
   "metadata": {},
   "outputs": [],
   "source": [
    "pi = {0:0, 1:0, 2:0, 3:0} # initial policy\n",
    "U = np.array([0.0 for _ in range(len(states))]) # initial values\n",
    "\n",
    "# for implementation\n",
    "U_vals = [[u] for u in U] # store U values\n",
    "old_U = U - 0.1 # to start loop"
   ]
  },
  {
   "cell_type": "code",
   "execution_count": null,
   "metadata": {},
   "outputs": [
    {
     "name": "stdout",
     "output_type": "stream",
     "text": [
      "Policy: {0: 2, 1: 1, 2: 0, 3: 1}\n",
      "Total Iterations: 138\n"
     ]
    }
   ],
   "source": [
    "# iterate until values converge within 0.01\n",
    "iterations = 0\n",
    "while np.sum(U-old_U) > 0.01:\n",
    "    iterations += 1\n",
    "    Q = {}\n",
    "    new_pi = {}\n",
    "    # update policy based on U values\n",
    "    for s in range(len(states)): # iterate over all states\n",
    "        argmax_a = None\n",
    "        max_Q = -1*float('inf')\n",
    "        \n",
    "        for a in range(len(T)): # iterate over possible actions\n",
    "            Q[(s,a)] = Q_sa(s, a, U, pi, gamma) # calculate Q-value\n",
    "            if Q[(s,a)] > max_Q: # get max, argmax\n",
    "                argmax_a = a\n",
    "                max_Q = Q[(s,a)]\n",
    "        new_pi[s] = argmax_a # update policy for state\n",
    "    pi = new_pi # update full policy\n",
    "    \n",
    "    # update values\n",
    "    old_U = deepcopy(U) # keep old value to determine convergence\n",
    "    U = [bellman_backup(i, U, pi, gamma) for i in range(len(states))]\n",
    "    U = np.array(U)\n",
    "    \n",
    "    # for plotting\n",
    "    for i, u in enumerate(U):\n",
    "        U_vals[i].append(u)\n",
    "\n",
    "U_value_iteration = U\n",
    "print(\"Policy:\", pi)\n",
    "print(\"Total Iterations:\", iterations)"
   ]
  },
  {
   "cell_type": "markdown",
   "metadata": {},
   "source": []
  },
  {
   "cell_type": "markdown",
   "metadata": {},
   "source": [
    "Policy Iteration"
   ]
  },
  {
   "cell_type": "code",
   "execution_count": null,
   "metadata": {},
   "outputs": [],
   "source": [
    "pi = {0:0, 1:0, 2:0, 3:0} # initial policy\n",
    "old_pi = None\n",
    "U = np.array([0.0 for _ in range(len(states))]) # initial values\n",
    "\n",
    "# for implementation\n",
    "U_vals = [[u] for u in U] # store U values\n",
    "old_U = U - 0.1 # to start loop"
   ]
  },
  {
   "cell_type": "code",
   "execution_count": null,
   "metadata": {},
   "outputs": [
    {
     "ename": "NameError",
     "evalue": "name 'pi' is not defined",
     "output_type": "error",
     "traceback": [
      "\u001b[0;31m---------------------------------------------------------------------------\u001b[0m",
      "\u001b[0;31mNameError\u001b[0m                                 Traceback (most recent call last)",
      "Cell \u001b[0;32mIn[7], line 1\u001b[0m\n\u001b[0;32m----> 1\u001b[0m \u001b[39mprint\u001b[39m(pi)\n\u001b[1;32m      2\u001b[0m iterations \u001b[39m=\u001b[39m \u001b[39m0\u001b[39m\n\u001b[1;32m      3\u001b[0m \u001b[39mwhile\u001b[39;00m pi \u001b[39m!=\u001b[39m old_pi:\n\u001b[1;32m      4\u001b[0m     \u001b[39m# determine U of policy\u001b[39;00m\n\u001b[1;32m      5\u001b[0m     \u001b[39m# iterate until values converge within 0.01\u001b[39;00m\n",
      "\u001b[0;31mNameError\u001b[0m: name 'pi' is not defined"
     ]
    }
   ],
   "source": [
    "print(pi)\n",
    "iterations = 0\n",
    "while pi != old_pi:\n",
    "    # determine U of policy\n",
    "    # iterate until values converge within 0.01\n",
    "    while np.sum(U-old_U) > 0.01:\n",
    "        iterations += 1\n",
    "        old_U = deepcopy(U)\n",
    "        U = np.array([bellman_backup(i, U, pi, gamma) for i in range(len(states))])\n",
    "        # for plotting\n",
    "        for i, u in enumerate(U):\n",
    "            U_vals[i].append(u)\n",
    "    \n",
    "    # extract policy from U values\n",
    "    Q = {}\n",
    "    new_pi = {}\n",
    "    for s in range(len(states)): # iterate over all states\n",
    "        argmax_a = None\n",
    "        max_Q = -1*float('inf')\n",
    "\n",
    "        for a in range(len(T)): # iterate over possible actions\n",
    "            Q[(s,a)] = Q_sa(s, a, U, pi, gamma) # calculate Q-value\n",
    "            if Q[(s,a)] > max_Q: # get max, argmax\n",
    "                argmax_a = a\n",
    "                max_Q = Q[(s,a)]\n",
    "        new_pi[s] = argmax_a # update policy for state\n",
    "    old_pi = deepcopy(pi)\n",
    "    pi = new_pi # update full policy\n",
    "    U = [bellman_backup(i, U, pi, gamma) for i in range(len(states))]\n",
    "    U = np.array(U)\n",
    "    print(\"Policy:\", pi)\n",
    "    print(\"Total Iterations:\", iterations)\n",
    "\n",
    "U_policy_iteration = U"
   ]
  },
  {
   "cell_type": "markdown",
   "metadata": {},
   "source": [
    "Printing stuff now"
   ]
  },
  {
   "cell_type": "code",
   "execution_count": null,
   "metadata": {},
   "outputs": [
    {
     "name": "stdout",
     "output_type": "stream",
     "text": [
      "[53.13439528 56.00000181 57.27536126 65.07537912]\n",
      "[53.13694775 56.00255428 57.27791374 65.07793159]\n"
     ]
    }
   ],
   "source": [
    "print(U_value_iteration)\n",
    "print(U_policy_iteration)"
   ]
  }
 ],
 "metadata": {
  "kernelspec": {
   "display_name": "base",
   "language": "python",
   "name": "python3"
  },
  "language_info": {
   "codemirror_mode": {
    "name": "ipython",
    "version": 3
   },
   "file_extension": ".py",
   "mimetype": "text/x-python",
   "name": "python",
   "nbconvert_exporter": "python",
   "pygments_lexer": "ipython3",
   "version": "3.10.7"
  }
 },
 "nbformat": 4,
 "nbformat_minor": 2
}
